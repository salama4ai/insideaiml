{
 "cells": [
  {
   "cell_type": "code",
   "execution_count": null,
   "id": "c2860c48-3740-4b56-aaf7-bd5c788d6bfe",
   "metadata": {},
   "outputs": [],
   "source": [
    "# importing packages\n",
    "from flask import Flask\n",
    "import pandas as pd\n",
    "\n",
    "# intialize object\n",
    "app = Flask(__name__)\n",
    "\n",
    "@app.route(\"/type/<inpt>\")\n",
    "def get_type(inpt):\n",
    "    dt = pd.read_json(r\"..\\data\\ner.json\")\n",
    "    try:\n",
    "        typ = dt[dt.names==inpt].Entity[0]        \n",
    "        return typ\n",
    "    except:\n",
    "        return \"not valid input, kindly enter another input\"\n",
    "\n",
    "if __name__==\"__main__\":\n",
    "    app.run(debug=False)"
   ]
  },
  {
   "cell_type": "markdown",
   "id": "bbba5d29-71b9-443e-a39f-26cc41671f43",
   "metadata": {},
   "source": [
    "### This script written at aug-2022 by Ahmad salama\n",
    "- salama4ai@gmail.com\n",
    "- www.linkedin.com/in/salama4ai"
   ]
  },
  {
   "cell_type": "code",
   "execution_count": null,
   "id": "f1424fd1-365e-45ee-b4d0-faec40e4afcf",
   "metadata": {},
   "outputs": [],
   "source": []
  }
 ],
 "metadata": {
  "kernelspec": {
   "display_name": "Python 3 (ipykernel)",
   "language": "python",
   "name": "python3"
  },
  "language_info": {
   "codemirror_mode": {
    "name": "ipython",
    "version": 3
   },
   "file_extension": ".py",
   "mimetype": "text/x-python",
   "name": "python",
   "nbconvert_exporter": "python",
   "pygments_lexer": "ipython3",
   "version": "3.9.7"
  }
 },
 "nbformat": 4,
 "nbformat_minor": 5
}
